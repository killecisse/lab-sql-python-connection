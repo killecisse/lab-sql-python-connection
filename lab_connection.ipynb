{
 "cells": [
  {
   "cell_type": "code",
   "execution_count": 5,
   "metadata": {},
   "outputs": [],
   "source": [
    "import pandas as pd\n",
    "from sqlalchemy import create_engine\n",
    "import pandas as pd\n",
    "from sqlalchemy import create_engine, text\n",
    "import pymysql.cursors\n",
    "import os\n",
    "import urllib\n",
    "\n",
    "pw_raw = 'Kille1995' #mettez votre mot de passe \n",
    "pw = urllib.parse.quote_plus(pw_raw)\n",
    "connection_string = 'mysql+pymysql://root:' + pw + '@localhost:3306/'\n",
    "engine = create_engine(connection_string)\n",
    "\n",
    "def rentals_month(engine, month, year):\n",
    "    query = f\"\"\"\n",
    "    SELECT * FROM rental\n",
    "    WHERE EXTRACT(MONTH FROM rental_date) = {month}\n",
    "    AND EXTRACT(YEAR FROM rental_date) = {year};\n",
    "    \"\"\"\n",
    "    return pd.read_sql_query(query, con=engine)\n",
    "def rental_count_month(df, month, year):\n",
    "    rental_counts = df.groupby('customer_id').size().reset_index(name=f'rentals_{str(month).zfill(2)}_{year}')\n",
    "    return rental_counts\n",
    "\n"
   ]
  }
 ],
 "metadata": {
  "kernelspec": {
   "display_name": "base",
   "language": "python",
   "name": "python3"
  },
  "language_info": {
   "codemirror_mode": {
    "name": "ipython",
    "version": 3
   },
   "file_extension": ".py",
   "mimetype": "text/x-python",
   "name": "python",
   "nbconvert_exporter": "python",
   "pygments_lexer": "ipython3",
   "version": "3.11.7"
  }
 },
 "nbformat": 4,
 "nbformat_minor": 2
}
